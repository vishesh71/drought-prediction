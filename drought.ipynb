{
 "cells": [
  {
   "cell_type": "markdown",
   "metadata": {},
   "source": [
    "## Importing the libraries"
   ]
  },
  {
   "cell_type": "code",
   "execution_count": 1,
   "metadata": {},
   "outputs": [
    {
     "name": "stdout",
     "output_type": "stream",
     "text": [
      "Collecting mahotas\r\n",
      "\u001b[?25l  Downloading https://files.pythonhosted.org/packages/84/74/bd38163462eb346519f36dc205f0a52a01fb372c7bbcc87392c9b21cfe26/mahotas-1.4.9.tar.gz (1.5MB)\r\n",
      "\u001b[K     |████████████████████████████████| 1.5MB 2.8MB/s \r\n",
      "\u001b[?25hRequirement already satisfied: numpy in /opt/conda/lib/python3.6/site-packages (from mahotas) (1.18.1)\r\n",
      "Building wheels for collected packages: mahotas\r\n",
      "  Building wheel for mahotas (setup.py) ... \u001b[?25l-\b \b\\\b \b|\b \b/\b \b-\b \b\\\b \b|\b \b/\b \b-\b \b\\\b \b|\b \b/\b \b-\b \b\\\b \b|\b \b/\b \b-\b \b\\\b \b|\b \b/\b \b-\b \b\\\b \b|\b \b/\b \b-\b \b\\\b \b|\b \b/\b \b-\b \b\\\b \b|\b \bdone\r\n",
      "\u001b[?25h  Created wheel for mahotas: filename=mahotas-1.4.9-cp36-cp36m-linux_x86_64.whl size=4363423 sha256=57207f2c58e8bf8c53616a45ab2b9d6b6ba66a98d7db6b4a6c05ecfcb4af54ac\r\n",
      "  Stored in directory: /root/.cache/pip/wheels/02/e7/50/b67eee3b19c479cc5b41f10230bf9c1556be6eaaf095c6e997\r\n",
      "Successfully built mahotas\r\n",
      "Installing collected packages: mahotas\r\n",
      "Successfully installed mahotas-1.4.9\r\n"
     ]
    }
   ],
   "source": [
    "import numpy as np\n",
    "import time\n",
    "import pandas as pd\n",
    "import tensorflow as tf\n",
    "import matplotlib.pyplot as plt\n",
    "import plotly.express as px\n",
    "from skimage import color\n",
    "!pip install mahotas\n",
    "import mahotas as mt\n",
    "from skimage.color import rgb2gray\n",
    "import warnings\n",
    "warnings.filterwarnings(\"ignore\")\n"
   ]
  },
  {
   "cell_type": "code",
   "execution_count": 2,
   "metadata": {
    "_cell_guid": "b1076dfc-b9ad-4769-8c92-a6c4dae69d19",
    "_uuid": "8f2839f25d086af736a60e9eeb907d3b93b6e0e5"
   },
   "outputs": [
    {
     "name": "stdout",
     "output_type": "stream",
     "text": [
      "/kaggle/input/extracted-feature/train_feature_deepstat_6.csv\n",
      "/kaggle/input/extracted-feature/test_feature_deepsat_6.csv\n",
      "/kaggle/input/deepsat-sat6/X_train_sat6.csv\n",
      "/kaggle/input/deepsat-sat6/y_test_sat6.csv\n",
      "/kaggle/input/deepsat-sat6/sat-6-full.mat\n",
      "/kaggle/input/deepsat-sat6/X_test_sat6.csv\n",
      "/kaggle/input/deepsat-sat6/y_train_sat6.csv\n",
      "/kaggle/input/deepsat-sat6/sat6annotations.csv\n"
     ]
    }
   ],
   "source": [
    "\n",
    "\n",
    "# Input data files are available in the \"../input/\" directory.\n",
    "# For example, running this (by clicking run or pressing Shift+Enter) will list all files under the input directory\n",
    "\n",
    "import os\n",
    "for dirname, _, filenames in os.walk('/kaggle/input'):\n",
    "    for filename in filenames:\n",
    "        print(os.path.join(dirname, filename))\n",
    "\n",
    "# Any results you write to the current directory are saved as output."
   ]
  },
  {
   "cell_type": "markdown",
   "metadata": {},
   "source": [
    "## Data Reading"
   ]
  },
  {
   "cell_type": "code",
   "execution_count": 3,
   "metadata": {
    "_cell_guid": "79c7e3d0-c299-4dcb-8224-4455121ee9b0",
    "_uuid": "d629ff2d2480ee46fbb7e2d37f6b5fab8052498a"
   },
   "outputs": [],
   "source": [
    "train_data_path=\"/kaggle/input/deepsat-sat6/X_train_sat6.csv\"\n",
    "train_label_path=\"/kaggle/input/deepsat-sat6/y_train_sat6.csv\"\n",
    "test_data_path=\"/kaggle/input/deepsat-sat6/X_test_sat6.csv\"\n",
    "test_lable_path=\"/kaggle/input/deepsat-sat6/y_test_sat6.csv\""
   ]
  },
  {
   "cell_type": "code",
   "execution_count": 4,
   "metadata": {},
   "outputs": [],
   "source": [
    "def data_read(data_path, nrows):\n",
    "    data=pd.read_csv(data_path, header=None, nrows=nrows)\n",
    "    data=data.values ## converting the data into numpy array\n",
    "    return data"
   ]
  },
  {
   "cell_type": "code",
   "execution_count": 5,
   "metadata": {},
   "outputs": [
    {
     "name": "stdout",
     "output_type": "stream",
     "text": [
      "Train data shape:(500, 3136)\n",
      "Train data label shape:(500, 6)\n",
      "\n",
      "Test data shape:(100, 3136)\n",
      "Test data label shape:(100, 6)\n"
     ]
    }
   ],
   "source": [
    "##Read training data\n",
    "train_data=data_read(train_data_path, nrows=500)\n",
    "print(\"Train data shape:\" + str(train_data.shape))\n",
    "\n",
    "##Read training data labels\n",
    "train_data_label=data_read(train_label_path,nrows=500)\n",
    "print(\"Train data label shape:\" + str(train_data_label.shape))\n",
    "print()\n",
    "\n",
    "##Read test data\n",
    "test_data=data_read(test_data_path, nrows=100)\n",
    "print(\"Test data shape:\" + str(test_data.shape))\n",
    "\n",
    "\n",
    "##Read test data labels\n",
    "test_data_label=data_read(test_lable_path,nrows=100)\n",
    "print(\"Test data label shape:\" + str(test_data_label.shape))\n"
   ]
  },
  {
   "cell_type": "markdown",
   "metadata": {},
   "source": [
    "## Data Visualization"
   ]
  },
  {
   "cell_type": "code",
   "execution_count": 6,
   "metadata": {},
   "outputs": [],
   "source": [
    "#label converter\n",
    "# [1,0,0,0,0,0]=building\n",
    "# [0,1,0,0,0,0]=barren_land\n",
    "# [0,0,1,0,0,0]=trees\n",
    "# [0,0,0,1,0,0]=grassland\n",
    "# [0,0,0,0,1,0]=road\n",
    "# [0,0,0,0,0,1]=water\n",
    "\n",
    "\n",
    "def label_conv(label_arr):\n",
    "    labels=[]\n",
    "    for i in range(len(label_arr)):\n",
    "        \n",
    "        if (label_arr[i]==[1,0,0,0,0,0]).all():\n",
    "            labels.append(\"Building\")  \n",
    "            \n",
    "        elif (label_arr[i]==[0,1,0,0,0,0]).all():  \n",
    "            labels.append(\"Barren_land\")  \n",
    "            \n",
    "        elif (label_arr[i]==[0,0,1,0,0,0]).all():\n",
    "            labels.append(\"Tree\") \n",
    "            \n",
    "        elif (label_arr[i]==[0,0,0,1,0,0]).all():\n",
    "            labels.append(\"Grassland\")\n",
    "            \n",
    "        elif (label_arr[i]==[0,0,0,0,1,0]).all():\n",
    "            labels.append(\"Road\") \n",
    "            \n",
    "        else:\n",
    "            labels.append(\"Water\")\n",
    "    return labels\n",
    "train_label_convert=label_conv(train_data_label)##train label conveter\n",
    "test_label_convert=label_conv(test_data_label) ##test label converter\n",
    "\n",
    "\n",
    "def data_visualization(data, label, n):\n",
    "    ##data: training or test data\n",
    "    ##lable: training or test labels\n",
    "    ## n: number of data point, it should be less than or equal to no. of data points\n",
    "    fig = plt.figure(figsize=(14, 14))\n",
    "    ax = []  # ax enables access to manipulate each of subplots\n",
    "    rows, columns=4,4\n",
    "    for i in range(columns*rows):\n",
    "        index=np.random.randint(1,n)\n",
    "        img= data[index].reshape([28,28,4])[:,:,:3] ##reshape input data to rgb image\n",
    "        ax.append( fig.add_subplot(rows, columns, i+1) ) # create subplot and append to ax\n",
    "        ax[-1].set_title(\"Class:\"+str(label[index]))  # set class\n",
    "        plt.axis(\"off\")\n",
    "        plt.imshow(img)\n",
    "\n",
    "    plt.subplots_adjust(wspace=0.1,hspace=0.5)\n",
    "    plt.show()  # finally, render the plot"
   ]
  },
  {
   "cell_type": "markdown",
   "metadata": {},
   "source": [
    "## Training data visualization"
   ]
  },
  {
   "cell_type": "code",
   "execution_count": 7,
   "metadata": {},
   "outputs": [
    {
     "data": {
      "image/png": "[encoded data removed]",
      "text/plain": [
       "<Figure size 1008x1008 with 16 Axes>"
      ]
     },
     "metadata": {
      "needs_background": "light"
     },
     "output_type": "display_data"
    }
   ],
   "source": [
    "data_visualization(train_data,train_label_convert, n=500)"
   ]
  },
  {
   "cell_type": "markdown",
   "metadata": {},
   "source": [
    "## Test data visualization"
   ]
  },
  {
   "cell_type": "code",
   "execution_count": 8,
   "metadata": {},
   "outputs": [
    {
     "data": {
      "image/png": "[encoded data removed]",
      "text/plain": [
       "<Figure size 1008x1008 with 16 Axes>"
      ]
     },
     "metadata": {
      "needs_background": "light"
     },
     "output_type": "display_data"
    }
   ],
   "source": [
    "data_visualization(test_data,test_label_convert, n=100)"
   ]
  },
  {
   "cell_type": "markdown",
   "metadata": {},
   "source": [
    "## Features Extraction¶"
   ]
  },
  {
   "cell_type": "code",
   "execution_count": 9,
   "metadata": {},
   "outputs": [],
   "source": [
    "\n",
    "#  texture_features=[\"Angular Second Moment\",\"Contrast\",\"Correlation\",\"Sum of Squares: Variance\",\"Inverse Difference Moment\",\n",
    "#                    \"Sum Average\",\"Sum Variance\",\"Sum Entropy\",\"Entropy\",\"Difference Variance\",\"Difference Entropy\",\n",
    "#                    \"Information Measure of Correlation 1\",\"Information Measure of Correlation 2\"\"Maximal Correlation Coefficient\"]\n",
    "\n",
    "#https://gogul09.github.io/software/texture-recognition #references for texture feature calculations\n",
    "\n",
    "def feature_extractor(input_image_file):\n",
    "    \n",
    "        tex_feature=[]\n",
    "        hsv_feature=[]\n",
    "        ndvi_feature=[]\n",
    "        arvi_feature=[]\n",
    "\n",
    "        for df_chunk in pd.read_csv(input_image_file ,header=None,chunksize = 5000):\n",
    "\n",
    "            df_chunk=df_chunk.astype(\"int32\")\n",
    "            data=df_chunk.values\n",
    "\n",
    "\n",
    "            ################data for HSV and Texture feature##############\n",
    "            img=data.reshape(-1,28,28,4)[:,:,:,:3]\n",
    "            #############################################################\n",
    "\n",
    "            ######################Data for NDVI and ARVI#################\n",
    "\n",
    "            NIR=data.reshape(-1,28,28,4)[:,:,:,3]\n",
    "            Red=data.reshape(-1,28,28,4)[:,:,:,2]\n",
    "            Blue=data.reshape(-1,28,28,4)[:,:,:,0]\n",
    "            #############################################################\n",
    "\n",
    "            for i in range(len(data)):\n",
    "\n",
    "                #######Texture_feature####################################\n",
    "                textures = mt.features.haralick(img[i])\n",
    "                ht_mean= textures.mean(axis=0)\n",
    "                tex_feature.append(ht_mean)\n",
    "                ##########################################################\n",
    "\n",
    "                #######hsv_feature#########################################\n",
    "                img_hsv = color.rgb2hsv(img[i]) # Image into HSV colorspace\n",
    "                h = img_hsv[:,:,0] # Hue\n",
    "                s = img_hsv[:,:,1] # Saturation\n",
    "                v = img_hsv[:,:,2] # Value aka Lightness\n",
    "                hsv_feature.append((h.mean(),s.mean(),v.mean()))\n",
    "                ###########################################################\n",
    "\n",
    "                ##########Calculation of NDVI Feature######################\n",
    "                NDVI=(NIR[i]-Red[i])/(NIR[i]+Red[i])\n",
    "                ndvi_feature.append(NDVI.mean())\n",
    "                ############################################################\n",
    "\n",
    "                ###################Calculation of ARVI#####################\n",
    "                a_1=NIR[i] -(2*Red[i]-Blue[i])\n",
    "                a_2=NIR[i] +(2*Red[i]+Blue[i])\n",
    "                arvi=a_1/a_2\n",
    "                arvi_feature.append(arvi.mean())\n",
    "                #######################################################\n",
    "\n",
    "        features=[]\n",
    "        for i in range(len(tex_feature)):\n",
    "            h_stack=np.hstack((tex_feature[i], hsv_feature[i], ndvi_feature[i], arvi_feature[i]))\n",
    "            features.append(h_stack)\n",
    "            \n",
    "        return features"
   ]
  },
  {
   "cell_type": "markdown",
   "metadata": {},
   "source": [
    "## Features extraction from training data"
   ]
  },
  {
   "cell_type": "code",
   "execution_count": 10,
   "metadata": {},
   "outputs": [],
   "source": [
    "train_data_features=feature_extractor(train_data_path)\n",
    "# saving train data features\n",
    "feature=pd.DataFrame(train_data_features, columns=[\"feature\"+ str(i) for i in range(len(train_data_features[0]))])\n",
    "feature.to_csv(\"train_feature_deepstat_6.csv\")"
   ]
  },
  {
   "cell_type": "markdown",
   "metadata": {},
   "source": [
    "## Features extraction from test data"
   ]
  },
  {
   "cell_type": "code",
   "execution_count": 11,
   "metadata": {},
   "outputs": [],
   "source": [
    "#test data features extraction\n",
    "test_data_features=feature_extractor(test_data_path)\n",
    "feature_test=pd.DataFrame(test_data_features, columns=[\"feature\"+ str(i) for i in range(len(train_data_features[0]))])\n",
    "feature_test.to_csv(\"test_feature_deepsat_6.csv\")"
   ]
  },
  {
   "cell_type": "markdown",
   "metadata": {},
   "source": [
    "## Model Building"
   ]
  },
  {
   "cell_type": "code",
   "execution_count": 12,
   "metadata": {},
   "outputs": [
    {
     "name": "stderr",
     "output_type": "stream",
     "text": [
      "Using TensorFlow backend.\n"
     ]
    }
   ],
   "source": [
    "from sklearn.preprocessing import StandardScaler \n",
    "import keras\n",
    "from keras.models import Sequential\n",
    "from keras.layers import Dense, Dropout, BatchNormalization, Activation\n",
    "from keras.callbacks import EarlyStopping, ModelCheckpoint, TensorBoard\n",
    "from time import time\n",
    "from mlxtend.evaluate import confusion_matrix\n",
    "from mlxtend.plotting import plot_confusion_matrix\n",
    "import matplotlib.pyplot as plt\n",
    "import seaborn as sns"
   ]
  },
  {
   "cell_type": "code",
   "execution_count": 13,
   "metadata": {},
   "outputs": [],
   "source": [
    "def data_read_(data_path):\n",
    "    df=pd.read_csv(data_path, index_col=[0])\n",
    "    return df\n",
    "\n",
    "def label_read(data_path):\n",
    "    df=pd.read_csv(data_path, header=None)\n",
    "    return df\n"
   ]
  },
  {
   "cell_type": "markdown",
   "metadata": {},
   "source": [
    "## Reading training data feature and training data label"
   ]
  },
  {
   "cell_type": "code",
   "execution_count": 14,
   "metadata": {},
   "outputs": [
    {
     "name": "stdout",
     "output_type": "stream",
     "text": [
      "Training data shape:  (324000, 18)\n",
      "Training label shape:  (324000, 6)\n"
     ]
    }
   ],
   "source": [
    "\n",
    "train_feature_deepstat_6=data_read_(data_path=\"/kaggle/input/extracted-feature/train_feature_deepstat_6.csv\")\n",
    "train_label=label_read(data_path=train_label_path)\n",
    "print(\"Training data shape: \",train_feature_deepstat_6.shape)\n",
    "print(\"Training label shape: \",train_label.shape)"
   ]
  },
  {
   "cell_type": "code",
   "execution_count": 15,
   "metadata": {},
   "outputs": [
    {
     "data": {
      "text/html": [
       "<div>\n",
       "<style scoped>\n",
       "    .dataframe tbody tr th:only-of-type {\n",
       "        vertical-align: middle;\n",
       "    }\n",
       "\n",
       "    .dataframe tbody tr th {\n",
       "        vertical-align: top;\n",
       "    }\n",
       "\n",
       "    .dataframe thead th {\n",
       "        text-align: right;\n",
       "    }\n",
       "</style>\n",
       "<table border=\"1\" class=\"dataframe\">\n",
       "  <thead>\n",
       "    <tr style=\"text-align: right;\">\n",
       "      <th></th>\n",
       "      <th>feature0</th>\n",
       "      <th>feature1</th>\n",
       "      <th>feature2</th>\n",
       "      <th>feature3</th>\n",
       "      <th>feature4</th>\n",
       "      <th>feature5</th>\n",
       "      <th>feature6</th>\n",
       "      <th>feature7</th>\n",
       "      <th>feature8</th>\n",
       "      <th>feature9</th>\n",
       "      <th>feature10</th>\n",
       "      <th>feature11</th>\n",
       "      <th>feature12</th>\n",
       "      <th>feature13</th>\n",
       "      <th>feature14</th>\n",
       "      <th>feature15</th>\n",
       "      <th>feature16</th>\n",
       "      <th>feature17</th>\n",
       "    </tr>\n",
       "  </thead>\n",
       "  <tbody>\n",
       "    <tr>\n",
       "      <th>0</th>\n",
       "      <td>0.000510</td>\n",
       "      <td>617.467448</td>\n",
       "      <td>0.744604</td>\n",
       "      <td>1208.225664</td>\n",
       "      <td>0.075734</td>\n",
       "      <td>165.287322</td>\n",
       "      <td>4215.435207</td>\n",
       "      <td>7.637573</td>\n",
       "      <td>11.158415</td>\n",
       "      <td>0.000144</td>\n",
       "      <td>5.546250</td>\n",
       "      <td>-0.356272</td>\n",
       "      <td>0.995773</td>\n",
       "      <td>0.365449</td>\n",
       "      <td>0.207631</td>\n",
       "      <td>4.211562e-08</td>\n",
       "      <td>0.130287</td>\n",
       "      <td>0.082918</td>\n",
       "    </tr>\n",
       "    <tr>\n",
       "      <th>1</th>\n",
       "      <td>0.001207</td>\n",
       "      <td>417.651225</td>\n",
       "      <td>0.397474</td>\n",
       "      <td>373.466474</td>\n",
       "      <td>0.082166</td>\n",
       "      <td>321.815240</td>\n",
       "      <td>1076.214670</td>\n",
       "      <td>6.722432</td>\n",
       "      <td>10.047084</td>\n",
       "      <td>0.000350</td>\n",
       "      <td>4.048463</td>\n",
       "      <td>-0.345718</td>\n",
       "      <td>0.991588</td>\n",
       "      <td>0.090416</td>\n",
       "      <td>0.258090</td>\n",
       "      <td>8.581116e-08</td>\n",
       "      <td>0.136626</td>\n",
       "      <td>0.142940</td>\n",
       "    </tr>\n",
       "    <tr>\n",
       "      <th>2</th>\n",
       "      <td>0.000398</td>\n",
       "      <td>1943.661871</td>\n",
       "      <td>0.403912</td>\n",
       "      <td>1619.892120</td>\n",
       "      <td>0.041302</td>\n",
       "      <td>156.599515</td>\n",
       "      <td>4535.906611</td>\n",
       "      <td>7.854340</td>\n",
       "      <td>11.419267</td>\n",
       "      <td>0.000051</td>\n",
       "      <td>6.343184</td>\n",
       "      <td>-0.394795</td>\n",
       "      <td>0.998089</td>\n",
       "      <td>0.599307</td>\n",
       "      <td>0.510874</td>\n",
       "      <td>5.071253e-08</td>\n",
       "      <td>-0.762366</td>\n",
       "      <td>-0.488413</td>\n",
       "    </tr>\n",
       "    <tr>\n",
       "      <th>3</th>\n",
       "      <td>0.000410</td>\n",
       "      <td>1016.512108</td>\n",
       "      <td>0.571321</td>\n",
       "      <td>1181.209671</td>\n",
       "      <td>0.048341</td>\n",
       "      <td>160.536238</td>\n",
       "      <td>3708.326575</td>\n",
       "      <td>7.776289</td>\n",
       "      <td>11.377842</td>\n",
       "      <td>0.000085</td>\n",
       "      <td>5.898673</td>\n",
       "      <td>-0.375375</td>\n",
       "      <td>0.997312</td>\n",
       "      <td>0.579702</td>\n",
       "      <td>0.435979</td>\n",
       "      <td>4.884989e-08</td>\n",
       "      <td>-0.779538</td>\n",
       "      <td>-0.482682</td>\n",
       "    </tr>\n",
       "    <tr>\n",
       "      <th>4</th>\n",
       "      <td>0.000647</td>\n",
       "      <td>487.816884</td>\n",
       "      <td>0.296176</td>\n",
       "      <td>345.964345</td>\n",
       "      <td>0.067422</td>\n",
       "      <td>288.690819</td>\n",
       "      <td>896.040495</td>\n",
       "      <td>6.823493</td>\n",
       "      <td>10.881089</td>\n",
       "      <td>0.000118</td>\n",
       "      <td>5.422547</td>\n",
       "      <td>-0.235495</td>\n",
       "      <td>0.972060</td>\n",
       "      <td>0.516917</td>\n",
       "      <td>0.193726</td>\n",
       "      <td>7.365289e-08</td>\n",
       "      <td>-0.659481</td>\n",
       "      <td>-0.320696</td>\n",
       "    </tr>\n",
       "  </tbody>\n",
       "</table>\n",
       "</div>"
      ],
      "text/plain": [
       "   feature0     feature1  feature2     feature3  feature4    feature5  \\\n",
       "0  0.000510   617.467448  0.744604  1208.225664  0.075734  165.287322   \n",
       "1  0.001207   417.651225  0.397474   373.466474  0.082166  321.815240   \n",
       "2  0.000398  1943.661871  0.403912  1619.892120  0.041302  156.599515   \n",
       "3  0.000410  1016.512108  0.571321  1181.209671  0.048341  160.536238   \n",
       "4  0.000647   487.816884  0.296176   345.964345  0.067422  288.690819   \n",
       "\n",
       "      feature6  feature7   feature8  feature9  feature10  feature11  \\\n",
       "0  4215.435207  7.637573  11.158415  0.000144   5.546250  -0.356272   \n",
       "1  1076.214670  6.722432  10.047084  0.000350   4.048463  -0.345718   \n",
       "2  4535.906611  7.854340  11.419267  0.000051   6.343184  -0.394795   \n",
       "3  3708.326575  7.776289  11.377842  0.000085   5.898673  -0.375375   \n",
       "4   896.040495  6.823493  10.881089  0.000118   5.422547  -0.235495   \n",
       "\n",
       "   feature12  feature13  feature14     feature15  feature16  feature17  \n",
       "0   0.995773   0.365449   0.207631  4.211562e-08   0.130287   0.082918  \n",
       "1   0.991588   0.090416   0.258090  8.581116e-08   0.136626   0.142940  \n",
       "2   0.998089   0.599307   0.510874  5.071253e-08  -0.762366  -0.488413  \n",
       "3   0.997312   0.579702   0.435979  4.884989e-08  -0.779538  -0.482682  \n",
       "4   0.972060   0.516917   0.193726  7.365289e-08  -0.659481  -0.320696  "
      ]
     },
     "execution_count": 15,
     "metadata": {},
     "output_type": "execute_result"
    }
   ],
   "source": [
    "train_feature_deepstat_6.head()"
   ]
  },
  {
   "cell_type": "code",
   "execution_count": 16,
   "metadata": {},
   "outputs": [
    {
     "data": {
      "text/html": [
       "<div>\n",
       "<style scoped>\n",
       "    .dataframe tbody tr th:only-of-type {\n",
       "        vertical-align: middle;\n",
       "    }\n",
       "\n",
       "    .dataframe tbody tr th {\n",
       "        vertical-align: top;\n",
       "    }\n",
       "\n",
       "    .dataframe thead th {\n",
       "        text-align: right;\n",
       "    }\n",
       "</style>\n",
       "<table border=\"1\" class=\"dataframe\">\n",
       "  <thead>\n",
       "    <tr style=\"text-align: right;\">\n",
       "      <th></th>\n",
       "      <th>0</th>\n",
       "      <th>1</th>\n",
       "      <th>2</th>\n",
       "      <th>3</th>\n",
       "      <th>4</th>\n",
       "      <th>5</th>\n",
       "    </tr>\n",
       "  </thead>\n",
       "  <tbody>\n",
       "    <tr>\n",
       "      <th>0</th>\n",
       "      <td>0</td>\n",
       "      <td>0</td>\n",
       "      <td>1</td>\n",
       "      <td>0</td>\n",
       "      <td>0</td>\n",
       "      <td>0</td>\n",
       "    </tr>\n",
       "    <tr>\n",
       "      <th>1</th>\n",
       "      <td>0</td>\n",
       "      <td>1</td>\n",
       "      <td>0</td>\n",
       "      <td>0</td>\n",
       "      <td>0</td>\n",
       "      <td>0</td>\n",
       "    </tr>\n",
       "    <tr>\n",
       "      <th>2</th>\n",
       "      <td>0</td>\n",
       "      <td>0</td>\n",
       "      <td>0</td>\n",
       "      <td>0</td>\n",
       "      <td>0</td>\n",
       "      <td>1</td>\n",
       "    </tr>\n",
       "    <tr>\n",
       "      <th>3</th>\n",
       "      <td>0</td>\n",
       "      <td>0</td>\n",
       "      <td>0</td>\n",
       "      <td>0</td>\n",
       "      <td>0</td>\n",
       "      <td>1</td>\n",
       "    </tr>\n",
       "    <tr>\n",
       "      <th>4</th>\n",
       "      <td>0</td>\n",
       "      <td>0</td>\n",
       "      <td>0</td>\n",
       "      <td>0</td>\n",
       "      <td>0</td>\n",
       "      <td>1</td>\n",
       "    </tr>\n",
       "  </tbody>\n",
       "</table>\n",
       "</div>"
      ],
      "text/plain": [
       "   0  1  2  3  4  5\n",
       "0  0  0  1  0  0  0\n",
       "1  0  1  0  0  0  0\n",
       "2  0  0  0  0  0  1\n",
       "3  0  0  0  0  0  1\n",
       "4  0  0  0  0  0  1"
      ]
     },
     "execution_count": 16,
     "metadata": {},
     "output_type": "execute_result"
    }
   ],
   "source": [
    "train_label.head()"
   ]
  },
  {
   "cell_type": "markdown",
   "metadata": {},
   "source": [
    "## Reading test data feature and test data label"
   ]
  },
  {
   "cell_type": "code",
   "execution_count": 17,
   "metadata": {
    "_cell_guid": "",
    "_uuid": ""
   },
   "outputs": [
    {
     "name": "stdout",
     "output_type": "stream",
     "text": [
      "Training data shape:  (81000, 18)\n",
      "Training label shape:  (81000, 6)\n"
     ]
    }
   ],
   "source": [
    "test_feature_deepsat_6=data_read_(data_path=\"/kaggle/input/extracted-feature/test_feature_deepsat_6.csv\")\n",
    "test_label=label_read(data_path=test_lable_path)\n",
    "print(\"Training data shape: \",test_feature_deepsat_6.shape)\n",
    "print(\"Training label shape: \",test_label.shape)"
   ]
  },
  {
   "cell_type": "code",
   "execution_count": 18,
   "metadata": {},
   "outputs": [
    {
     "data": {
      "text/html": [
       "<div>\n",
       "<style scoped>\n",
       "    .dataframe tbody tr th:only-of-type {\n",
       "        vertical-align: middle;\n",
       "    }\n",
       "\n",
       "    .dataframe tbody tr th {\n",
       "        vertical-align: top;\n",
       "    }\n",
       "\n",
       "    .dataframe thead th {\n",
       "        text-align: right;\n",
       "    }\n",
       "</style>\n",
       "<table border=\"1\" class=\"dataframe\">\n",
       "  <thead>\n",
       "    <tr style=\"text-align: right;\">\n",
       "      <th></th>\n",
       "      <th>feature0</th>\n",
       "      <th>feature1</th>\n",
       "      <th>feature2</th>\n",
       "      <th>feature3</th>\n",
       "      <th>feature4</th>\n",
       "      <th>feature5</th>\n",
       "      <th>feature6</th>\n",
       "      <th>feature7</th>\n",
       "      <th>feature8</th>\n",
       "      <th>feature9</th>\n",
       "      <th>feature10</th>\n",
       "      <th>feature11</th>\n",
       "      <th>feature12</th>\n",
       "      <th>feature13</th>\n",
       "      <th>feature14</th>\n",
       "      <th>feature15</th>\n",
       "      <th>feature16</th>\n",
       "      <th>feature17</th>\n",
       "    </tr>\n",
       "  </thead>\n",
       "  <tbody>\n",
       "    <tr>\n",
       "      <th>0</th>\n",
       "      <td>0.000472</td>\n",
       "      <td>825.146019</td>\n",
       "      <td>0.483915</td>\n",
       "      <td>799.436334</td>\n",
       "      <td>0.054771</td>\n",
       "      <td>163.380355</td>\n",
       "      <td>2372.599315</td>\n",
       "      <td>7.433824</td>\n",
       "      <td>11.232332</td>\n",
       "      <td>0.000107</td>\n",
       "      <td>5.772372</td>\n",
       "      <td>-0.321464</td>\n",
       "      <td>0.992508</td>\n",
       "      <td>0.342550</td>\n",
       "      <td>0.203484</td>\n",
       "      <td>4.158225e-08</td>\n",
       "      <td>0.300045</td>\n",
       "      <td>0.188149</td>\n",
       "    </tr>\n",
       "    <tr>\n",
       "      <th>1</th>\n",
       "      <td>0.000747</td>\n",
       "      <td>450.118996</td>\n",
       "      <td>0.520765</td>\n",
       "      <td>468.906282</td>\n",
       "      <td>0.082015</td>\n",
       "      <td>203.764809</td>\n",
       "      <td>1425.506132</td>\n",
       "      <td>7.055624</td>\n",
       "      <td>10.791574</td>\n",
       "      <td>0.000153</td>\n",
       "      <td>5.301941</td>\n",
       "      <td>-0.278724</td>\n",
       "      <td>0.983755</td>\n",
       "      <td>0.203896</td>\n",
       "      <td>0.131008</td>\n",
       "      <td>5.035616e-08</td>\n",
       "      <td>0.235854</td>\n",
       "      <td>0.156365</td>\n",
       "    </tr>\n",
       "    <tr>\n",
       "      <th>2</th>\n",
       "      <td>0.000375</td>\n",
       "      <td>1244.129580</td>\n",
       "      <td>0.599170</td>\n",
       "      <td>1543.860577</td>\n",
       "      <td>0.041937</td>\n",
       "      <td>224.183576</td>\n",
       "      <td>4931.312727</td>\n",
       "      <td>7.980644</td>\n",
       "      <td>11.476607</td>\n",
       "      <td>0.000063</td>\n",
       "      <td>6.082126</td>\n",
       "      <td>-0.409750</td>\n",
       "      <td>0.998548</td>\n",
       "      <td>0.565407</td>\n",
       "      <td>0.333206</td>\n",
       "      <td>6.285180e-08</td>\n",
       "      <td>-0.672770</td>\n",
       "      <td>-0.387071</td>\n",
       "    </tr>\n",
       "    <tr>\n",
       "      <th>3</th>\n",
       "      <td>0.001382</td>\n",
       "      <td>388.768318</td>\n",
       "      <td>0.387355</td>\n",
       "      <td>330.283150</td>\n",
       "      <td>0.064144</td>\n",
       "      <td>272.052422</td>\n",
       "      <td>932.364281</td>\n",
       "      <td>6.665846</td>\n",
       "      <td>9.931245</td>\n",
       "      <td>0.000168</td>\n",
       "      <td>4.945995</td>\n",
       "      <td>-0.221024</td>\n",
       "      <td>0.951162</td>\n",
       "      <td>0.068662</td>\n",
       "      <td>0.239222</td>\n",
       "      <td>7.308982e-08</td>\n",
       "      <td>0.243074</td>\n",
       "      <td>0.193786</td>\n",
       "    </tr>\n",
       "    <tr>\n",
       "      <th>4</th>\n",
       "      <td>0.000713</td>\n",
       "      <td>435.000939</td>\n",
       "      <td>0.467699</td>\n",
       "      <td>418.204251</td>\n",
       "      <td>0.071743</td>\n",
       "      <td>111.584020</td>\n",
       "      <td>1237.816065</td>\n",
       "      <td>6.963757</td>\n",
       "      <td>10.728918</td>\n",
       "      <td>0.000235</td>\n",
       "      <td>5.109433</td>\n",
       "      <td>-0.268148</td>\n",
       "      <td>0.980983</td>\n",
       "      <td>0.599072</td>\n",
       "      <td>0.514390</td>\n",
       "      <td>3.666192e-08</td>\n",
       "      <td>-0.841739</td>\n",
       "      <td>-0.561151</td>\n",
       "    </tr>\n",
       "  </tbody>\n",
       "</table>\n",
       "</div>"
      ],
      "text/plain": [
       "   feature0     feature1  feature2     feature3  feature4    feature5  \\\n",
       "0  0.000472   825.146019  0.483915   799.436334  0.054771  163.380355   \n",
       "1  0.000747   450.118996  0.520765   468.906282  0.082015  203.764809   \n",
       "2  0.000375  1244.129580  0.599170  1543.860577  0.041937  224.183576   \n",
       "3  0.001382   388.768318  0.387355   330.283150  0.064144  272.052422   \n",
       "4  0.000713   435.000939  0.467699   418.204251  0.071743  111.584020   \n",
       "\n",
       "      feature6  feature7   feature8  feature9  feature10  feature11  \\\n",
       "0  2372.599315  7.433824  11.232332  0.000107   5.772372  -0.321464   \n",
       "1  1425.506132  7.055624  10.791574  0.000153   5.301941  -0.278724   \n",
       "2  4931.312727  7.980644  11.476607  0.000063   6.082126  -0.409750   \n",
       "3   932.364281  6.665846   9.931245  0.000168   4.945995  -0.221024   \n",
       "4  1237.816065  6.963757  10.728918  0.000235   5.109433  -0.268148   \n",
       "\n",
       "   feature12  feature13  feature14     feature15  feature16  feature17  \n",
       "0   0.992508   0.342550   0.203484  4.158225e-08   0.300045   0.188149  \n",
       "1   0.983755   0.203896   0.131008  5.035616e-08   0.235854   0.156365  \n",
       "2   0.998548   0.565407   0.333206  6.285180e-08  -0.672770  -0.387071  \n",
       "3   0.951162   0.068662   0.239222  7.308982e-08   0.243074   0.193786  \n",
       "4   0.980983   0.599072   0.514390  3.666192e-08  -0.841739  -0.561151  "
      ]
     },
     "execution_count": 18,
     "metadata": {},
     "output_type": "execute_result"
    }
   ],
   "source": [
    "test_feature_deepsat_6.head()"
   ]
  },
  {
   "cell_type": "code",
   "execution_count": 19,
   "metadata": {},
   "outputs": [
    {
     "data": {
      "text/html": [
       "<div>\n",
       "<style scoped>\n",
       "    .dataframe tbody tr th:only-of-type {\n",
       "        vertical-align: middle;\n",
       "    }\n",
       "\n",
       "    .dataframe tbody tr th {\n",
       "        vertical-align: top;\n",
       "    }\n",
       "\n",
       "    .dataframe thead th {\n",
       "        text-align: right;\n",
       "    }\n",
       "</style>\n",
       "<table border=\"1\" class=\"dataframe\">\n",
       "  <thead>\n",
       "    <tr style=\"text-align: right;\">\n",
       "      <th></th>\n",
       "      <th>0</th>\n",
       "      <th>1</th>\n",
       "      <th>2</th>\n",
       "      <th>3</th>\n",
       "      <th>4</th>\n",
       "      <th>5</th>\n",
       "    </tr>\n",
       "  </thead>\n",
       "  <tbody>\n",
       "    <tr>\n",
       "      <th>0</th>\n",
       "      <td>0</td>\n",
       "      <td>0</td>\n",
       "      <td>1</td>\n",
       "      <td>0</td>\n",
       "      <td>0</td>\n",
       "      <td>0</td>\n",
       "    </tr>\n",
       "    <tr>\n",
       "      <th>1</th>\n",
       "      <td>0</td>\n",
       "      <td>0</td>\n",
       "      <td>1</td>\n",
       "      <td>0</td>\n",
       "      <td>0</td>\n",
       "      <td>0</td>\n",
       "    </tr>\n",
       "    <tr>\n",
       "      <th>2</th>\n",
       "      <td>0</td>\n",
       "      <td>0</td>\n",
       "      <td>0</td>\n",
       "      <td>0</td>\n",
       "      <td>0</td>\n",
       "      <td>1</td>\n",
       "    </tr>\n",
       "    <tr>\n",
       "      <th>3</th>\n",
       "      <td>0</td>\n",
       "      <td>1</td>\n",
       "      <td>0</td>\n",
       "      <td>0</td>\n",
       "      <td>0</td>\n",
       "      <td>0</td>\n",
       "    </tr>\n",
       "    <tr>\n",
       "      <th>4</th>\n",
       "      <td>0</td>\n",
       "      <td>0</td>\n",
       "      <td>0</td>\n",
       "      <td>0</td>\n",
       "      <td>0</td>\n",
       "      <td>1</td>\n",
       "    </tr>\n",
       "  </tbody>\n",
       "</table>\n",
       "</div>"
      ],
      "text/plain": [
       "   0  1  2  3  4  5\n",
       "0  0  0  1  0  0  0\n",
       "1  0  0  1  0  0  0\n",
       "2  0  0  0  0  0  1\n",
       "3  0  1  0  0  0  0\n",
       "4  0  0  0  0  0  1"
      ]
     },
     "execution_count": 19,
     "metadata": {},
     "output_type": "execute_result"
    }
   ],
   "source": [
    "test_label.head()"
   ]
  },
  {
   "cell_type": "markdown",
   "metadata": {},
   "source": [
    "## Data standardization"
   ]
  },
  {
   "cell_type": "code",
   "execution_count": 20,
   "metadata": {},
   "outputs": [],
   "source": [
    "sc=StandardScaler()\n",
    "#fit the training data\n",
    "fit=sc.fit(train_feature_deepstat_6)"
   ]
  },
  {
   "cell_type": "code",
   "execution_count": 21,
   "metadata": {},
   "outputs": [],
   "source": [
    "##transform the train and test data\n",
    "train_data_stn=fit.transform(train_feature_deepstat_6)\n",
    "test_data_stn=fit.transform(test_feature_deepsat_6)"
   ]
  },
  {
   "cell_type": "code",
   "execution_count": 22,
   "metadata": {},
   "outputs": [],
   "source": [
    "model=Sequential()\n",
    "\n",
    "#layer1\n",
    "model.add(Dense(units=50,input_shape=(train_data_stn.shape[1],),use_bias=True))\n",
    "#model.add(BatchNormalization())\n",
    "model.add(Activation(\"relu\"))\n",
    "model.add(Dropout(0.2))\n",
    "\n",
    "#layer2\n",
    "model.add(Dense(units=50, use_bias=True))\n",
    "#model.add(BatchNormalization())\n",
    "model.add(Activation(\"relu\"))\n",
    "model.add(Dropout(0.2))\n",
    "\n",
    "#layer3\n",
    "model.add(Dense(units=6, activation=\"softmax\"))\n",
    "\n",
    "\n",
    "##ADD early stopping\n",
    "es = EarlyStopping(monitor='val_loss', mode='min', verbose=1, patience=5)\n",
    "# mc = ModelCheckpoint('best_model.h5', monitor='val_accuracy', mode='max', verbose=1, save_best_only=True)\n",
    "# tensorboard = TensorBoard(log_dir='logs/{}'.format(time()))\n",
    "#tensorboard=TensorBoard(log_dir='logs/{}'.format(time()))\n",
    "\n",
    "#compile the model\n",
    "model.compile(optimizer=\"adam\",loss=\"categorical_crossentropy\",metrics=[\"accuracy\"])\n"
   ]
  },
  {
   "cell_type": "markdown",
   "metadata": {},
   "source": [
    "## Model Training"
   ]
  },
  {
   "cell_type": "code",
   "execution_count": 23,
   "metadata": {},
   "outputs": [
    {
     "name": "stdout",
     "output_type": "stream",
     "text": [
      "Train on 275400 samples, validate on 48600 samples\n",
      "Epoch 1/500\n",
      "275400/275400 [==============================] - 4s 14us/step - loss: 0.2637 - accuracy: 0.9109 - val_loss: 0.0794 - val_accuracy: 0.9741\n",
      "Epoch 2/500\n",
      "275400/275400 [==============================] - 2s 9us/step - loss: 0.0942 - accuracy: 0.9685 - val_loss: 0.0668 - val_accuracy: 0.9770\n",
      "Epoch 3/500\n",
      "275400/275400 [==============================] - 3s 10us/step - loss: 0.0789 - accuracy: 0.9734 - val_loss: 0.0582 - val_accuracy: 0.9796\n",
      "Epoch 4/500\n",
      "275400/275400 [==============================] - 2s 9us/step - loss: 0.0705 - accuracy: 0.9761 - val_loss: 0.0530 - val_accuracy: 0.9816\n",
      "Epoch 5/500\n",
      "275400/275400 [==============================] - 3s 10us/step - loss: 0.0648 - accuracy: 0.9782 - val_loss: 0.0504 - val_accuracy: 0.9832\n",
      "Epoch 6/500\n",
      "275400/275400 [==============================] - 2s 9us/step - loss: 0.0602 - accuracy: 0.9797 - val_loss: 0.0485 - val_accuracy: 0.9840\n",
      "Epoch 7/500\n",
      "275400/275400 [==============================] - 2s 9us/step - loss: 0.0564 - accuracy: 0.9812 - val_loss: 0.0456 - val_accuracy: 0.9840\n",
      "Epoch 8/500\n",
      "275400/275400 [==============================] - 2s 9us/step - loss: 0.0542 - accuracy: 0.9819 - val_loss: 0.0434 - val_accuracy: 0.9860\n",
      "Epoch 9/500\n",
      "275400/275400 [==============================] - 2s 9us/step - loss: 0.0514 - accuracy: 0.9827 - val_loss: 0.0413 - val_accuracy: 0.9864\n",
      "Epoch 10/500\n",
      "275400/275400 [==============================] - 2s 9us/step - loss: 0.0494 - accuracy: 0.9836 - val_loss: 0.0391 - val_accuracy: 0.9874\n",
      "Epoch 11/500\n",
      "275400/275400 [==============================] - 2s 9us/step - loss: 0.0482 - accuracy: 0.9841 - val_loss: 0.0386 - val_accuracy: 0.9875\n",
      "Epoch 12/500\n",
      "275400/275400 [==============================] - 2s 9us/step - loss: 0.0468 - accuracy: 0.9843 - val_loss: 0.0373 - val_accuracy: 0.9876\n",
      "Epoch 13/500\n",
      "275400/275400 [==============================] - 3s 10us/step - loss: 0.0449 - accuracy: 0.9848 - val_loss: 0.0356 - val_accuracy: 0.9880\n",
      "Epoch 14/500\n",
      "275400/275400 [==============================] - 2s 8us/step - loss: 0.0439 - accuracy: 0.9853 - val_loss: 0.0354 - val_accuracy: 0.9879\n",
      "Epoch 15/500\n",
      "275400/275400 [==============================] - 2s 9us/step - loss: 0.0425 - accuracy: 0.9857 - val_loss: 0.0338 - val_accuracy: 0.9885\n",
      "Epoch 16/500\n",
      "275400/275400 [==============================] - 2s 9us/step - loss: 0.0417 - accuracy: 0.9862 - val_loss: 0.0336 - val_accuracy: 0.9884\n",
      "Epoch 17/500\n",
      "275400/275400 [==============================] - 2s 9us/step - loss: 0.0407 - accuracy: 0.9862 - val_loss: 0.0320 - val_accuracy: 0.9891\n",
      "Epoch 18/500\n",
      "275400/275400 [==============================] - 2s 9us/step - loss: 0.0397 - accuracy: 0.9866 - val_loss: 0.0318 - val_accuracy: 0.9892\n",
      "Epoch 19/500\n",
      "275400/275400 [==============================] - 2s 9us/step - loss: 0.0391 - accuracy: 0.9868 - val_loss: 0.0310 - val_accuracy: 0.9894\n",
      "Epoch 20/500\n",
      "275400/275400 [==============================] - 2s 9us/step - loss: 0.0390 - accuracy: 0.9871 - val_loss: 0.0299 - val_accuracy: 0.9899\n",
      "Epoch 21/500\n",
      "275400/275400 [==============================] - 3s 10us/step - loss: 0.0383 - accuracy: 0.9874 - val_loss: 0.0291 - val_accuracy: 0.9905\n",
      "Epoch 22/500\n",
      "275400/275400 [==============================] - 2s 8us/step - loss: 0.0373 - accuracy: 0.9876 - val_loss: 0.0289 - val_accuracy: 0.9906\n",
      "Epoch 23/500\n",
      "275400/275400 [==============================] - 2s 9us/step - loss: 0.0367 - accuracy: 0.9878 - val_loss: 0.0287 - val_accuracy: 0.9902\n",
      "Epoch 24/500\n",
      "275400/275400 [==============================] - 2s 9us/step - loss: 0.0361 - accuracy: 0.9880 - val_loss: 0.0285 - val_accuracy: 0.9906\n",
      "Epoch 25/500\n",
      "275400/275400 [==============================] - 2s 9us/step - loss: 0.0356 - accuracy: 0.9882 - val_loss: 0.0275 - val_accuracy: 0.9911\n",
      "Epoch 26/500\n",
      "275400/275400 [==============================] - 2s 8us/step - loss: 0.0350 - accuracy: 0.9885 - val_loss: 0.0272 - val_accuracy: 0.9911\n",
      "Epoch 27/500\n",
      "275400/275400 [==============================] - 3s 10us/step - loss: 0.0346 - accuracy: 0.9884 - val_loss: 0.0267 - val_accuracy: 0.9911\n",
      "Epoch 28/500\n",
      "275400/275400 [==============================] - 2s 9us/step - loss: 0.0346 - accuracy: 0.9885 - val_loss: 0.0276 - val_accuracy: 0.9906\n",
      "Epoch 29/500\n",
      "275400/275400 [==============================] - 3s 10us/step - loss: 0.0341 - accuracy: 0.9886 - val_loss: 0.0266 - val_accuracy: 0.9912\n",
      "Epoch 30/500\n",
      "275400/275400 [==============================] - 2s 9us/step - loss: 0.0344 - accuracy: 0.9885 - val_loss: 0.0256 - val_accuracy: 0.9918\n",
      "Epoch 31/500\n",
      "275400/275400 [==============================] - 2s 9us/step - loss: 0.0339 - accuracy: 0.9886 - val_loss: 0.0256 - val_accuracy: 0.9917\n",
      "Epoch 32/500\n",
      "275400/275400 [==============================] - 2s 9us/step - loss: 0.0335 - accuracy: 0.9891 - val_loss: 0.0254 - val_accuracy: 0.9917\n",
      "Epoch 33/500\n",
      "275400/275400 [==============================] - 3s 9us/step - loss: 0.0327 - accuracy: 0.9893 - val_loss: 0.0255 - val_accuracy: 0.9916\n",
      "Epoch 34/500\n",
      "275400/275400 [==============================] - 2s 9us/step - loss: 0.0329 - accuracy: 0.9892 - val_loss: 0.0247 - val_accuracy: 0.9918\n",
      "Epoch 35/500\n",
      "275400/275400 [==============================] - 2s 9us/step - loss: 0.0326 - accuracy: 0.9893 - val_loss: 0.0245 - val_accuracy: 0.9918\n",
      "Epoch 36/500\n",
      "275400/275400 [==============================] - 2s 9us/step - loss: 0.0325 - accuracy: 0.9893 - val_loss: 0.0243 - val_accuracy: 0.9920\n",
      "Epoch 37/500\n",
      "275400/275400 [==============================] - 3s 10us/step - loss: 0.0319 - accuracy: 0.9893 - val_loss: 0.0244 - val_accuracy: 0.9919\n",
      "Epoch 38/500\n",
      "275400/275400 [==============================] - 2s 9us/step - loss: 0.0319 - accuracy: 0.9895 - val_loss: 0.0243 - val_accuracy: 0.9921\n",
      "Epoch 39/500\n",
      "275400/275400 [==============================] - 2s 9us/step - loss: 0.0313 - accuracy: 0.9896 - val_loss: 0.0235 - val_accuracy: 0.9923\n",
      "Epoch 40/500\n",
      "275400/275400 [==============================] - 3s 10us/step - loss: 0.0315 - accuracy: 0.9894 - val_loss: 0.0235 - val_accuracy: 0.9922\n",
      "Epoch 41/500\n",
      "275400/275400 [==============================] - 3s 9us/step - loss: 0.0318 - accuracy: 0.9896 - val_loss: 0.0251 - val_accuracy: 0.9917\n",
      "Epoch 42/500\n",
      "275400/275400 [==============================] - 2s 9us/step - loss: 0.0312 - accuracy: 0.9897 - val_loss: 0.0232 - val_accuracy: 0.9926\n",
      "Epoch 43/500\n",
      "275400/275400 [==============================] - 2s 9us/step - loss: 0.0309 - accuracy: 0.9899 - val_loss: 0.0230 - val_accuracy: 0.9924\n",
      "Epoch 44/500\n",
      "275400/275400 [==============================] - 2s 8us/step - loss: 0.0309 - accuracy: 0.9899 - val_loss: 0.0244 - val_accuracy: 0.9918\n",
      "Epoch 45/500\n",
      "275400/275400 [==============================] - 3s 10us/step - loss: 0.0299 - accuracy: 0.9904 - val_loss: 0.0228 - val_accuracy: 0.9922\n",
      "Epoch 46/500\n",
      "275400/275400 [==============================] - 2s 8us/step - loss: 0.0303 - accuracy: 0.9902 - val_loss: 0.0230 - val_accuracy: 0.9926\n",
      "Epoch 47/500\n",
      "275400/275400 [==============================] - 2s 8us/step - loss: 0.0303 - accuracy: 0.9902 - val_loss: 0.0238 - val_accuracy: 0.9921\n",
      "Epoch 48/500\n",
      "275400/275400 [==============================] - 2s 9us/step - loss: 0.0301 - accuracy: 0.9903 - val_loss: 0.0225 - val_accuracy: 0.9929\n",
      "Epoch 49/500\n",
      "275400/275400 [==============================] - 2s 9us/step - loss: 0.0300 - accuracy: 0.9900 - val_loss: 0.0221 - val_accuracy: 0.9927\n",
      "Epoch 50/500\n",
      "275400/275400 [==============================] - 2s 9us/step - loss: 0.0298 - accuracy: 0.9903 - val_loss: 0.0224 - val_accuracy: 0.9927\n",
      "Epoch 51/500\n",
      "275400/275400 [==============================] - 2s 8us/step - loss: 0.0301 - accuracy: 0.9902 - val_loss: 0.0218 - val_accuracy: 0.9929\n",
      "Epoch 52/500\n",
      "275400/275400 [==============================] - 3s 10us/step - loss: 0.0295 - accuracy: 0.9905 - val_loss: 0.0222 - val_accuracy: 0.9927\n",
      "Epoch 53/500\n",
      "275400/275400 [==============================] - 3s 9us/step - loss: 0.0295 - accuracy: 0.9902 - val_loss: 0.0224 - val_accuracy: 0.9926\n",
      "Epoch 54/500\n",
      "275400/275400 [==============================] - 3s 10us/step - loss: 0.0296 - accuracy: 0.9904 - val_loss: 0.0217 - val_accuracy: 0.9930\n",
      "Epoch 55/500\n",
      "275400/275400 [==============================] - 2s 9us/step - loss: 0.0296 - accuracy: 0.9903 - val_loss: 0.0213 - val_accuracy: 0.9933\n",
      "Epoch 56/500\n",
      "275400/275400 [==============================] - 2s 9us/step - loss: 0.0299 - accuracy: 0.9902 - val_loss: 0.0213 - val_accuracy: 0.9931\n",
      "Epoch 57/500\n",
      "275400/275400 [==============================] - 2s 9us/step - loss: 0.0293 - accuracy: 0.9904 - val_loss: 0.0218 - val_accuracy: 0.9932\n",
      "Epoch 58/500\n",
      "275400/275400 [==============================] - 2s 9us/step - loss: 0.0290 - accuracy: 0.9905 - val_loss: 0.0217 - val_accuracy: 0.9926\n",
      "Epoch 59/500\n",
      "275400/275400 [==============================] - 2s 9us/step - loss: 0.0287 - accuracy: 0.9905 - val_loss: 0.0211 - val_accuracy: 0.9931\n",
      "Epoch 60/500\n",
      "275400/275400 [==============================] - 2s 9us/step - loss: 0.0291 - accuracy: 0.9905 - val_loss: 0.0216 - val_accuracy: 0.9928\n",
      "Epoch 61/500\n",
      "275400/275400 [==============================] - 3s 10us/step - loss: 0.0288 - accuracy: 0.9905 - val_loss: 0.0216 - val_accuracy: 0.9932\n",
      "Epoch 62/500\n",
      "275400/275400 [==============================] - 2s 8us/step - loss: 0.0292 - accuracy: 0.9903 - val_loss: 0.0215 - val_accuracy: 0.9931\n",
      "Epoch 63/500\n",
      "275400/275400 [==============================] - 2s 8us/step - loss: 0.0290 - accuracy: 0.9906 - val_loss: 0.0215 - val_accuracy: 0.9925\n",
      "Epoch 64/500\n",
      "275400/275400 [==============================] - 2s 8us/step - loss: 0.0285 - accuracy: 0.9908 - val_loss: 0.0212 - val_accuracy: 0.9930\n",
      "Epoch 00064: early stopping\n"
     ]
    },
    {
     "data": {
      "text/plain": [
       "<keras.callbacks.callbacks.History at 0x7f83e54d7f60>"
      ]
     },
     "execution_count": 23,
     "metadata": {},
     "output_type": "execute_result"
    }
   ],
   "source": [
    "#model.fit(train_data_stn, train_label.values, validation_split=0.15, batch_size=512, epochs=500,callbacks=[es, mc,tensorboard]) \n",
    "model.fit(train_data_stn, train_label.values, validation_split=0.15, batch_size=512, epochs=500,callbacks=[es]) "
   ]
  },
  {
   "cell_type": "markdown",
   "metadata": {},
   "source": [
    "## Model Evaluation"
   ]
  },
  {
   "cell_type": "code",
   "execution_count": 24,
   "metadata": {},
   "outputs": [
    {
     "name": "stdout",
     "output_type": "stream",
     "text": [
      "81000/81000 [==============================] - 4s 55us/step\n",
      "Accuracy on test data:  0.993950605392456\n"
     ]
    }
   ],
   "source": [
    "Accuracy_on_test_data=model.evaluate(test_data_stn, test_label.values)[1]\n",
    "print(\"Accuracy on test data: \",Accuracy_on_test_data)"
   ]
  },
  {
   "cell_type": "markdown",
   "metadata": {},
   "source": [
    "## Confusion Matrix"
   ]
  },
  {
   "cell_type": "code",
   "execution_count": 25,
   "metadata": {},
   "outputs": [
    {
     "data": {
      "image/png": "[encoded data removed]",
      "text/plain": [
       "<Figure size 432x432 with 1 Axes>"
      ]
     },
     "metadata": {
      "needs_background": "light"
     },
     "output_type": "display_data"
    }
   ],
   "source": [
    "#label converter\n",
    "# [1,0,0,0,0,0]=building\n",
    "# [0,1,0,0,0]=barren_land\n",
    "# [0,0,1,0,0,0]=tree\n",
    "# [0,0,0,1,0,0]=grassland\n",
    "# [0,0,0,0,1,0]=road\n",
    "# [0,0,0,0,0,1]=water\n",
    "\n",
    "\n",
    "##Building confusion matrix\n",
    "\n",
    "y_pred=model.predict_classes(test_data_stn)\n",
    "y_true=np.argmax(test_label.values, axis=1)\n",
    "cm=confusion_matrix(y_target=y_true, y_predicted=y_pred)\n",
    "\n",
    "plot_confusion_matrix(cm,class_names=[\"Building\",\"Barren_land\",\"Tree\",\"Grassland\",\"Road\",\"Water\"],figsize=(6,6) )\n",
    "plt.show()"
   ]
  },
  {
   "cell_type": "markdown",
   "metadata": {},
   "source": [
    "## Precision and Recall calculation for multiclass classification"
   ]
  },
  {
   "cell_type": "code",
   "execution_count": 26,
   "metadata": {},
   "outputs": [],
   "source": [
    "def precision(label, confusion_matrix):\n",
    "    col = confusion_matrix[:, label]\n",
    "    return confusion_matrix[label, label] / col.sum()\n",
    "    \n",
    "def recall(label, confusion_matrix):\n",
    "    row = confusion_matrix[label, :]\n",
    "    return confusion_matrix[label, label] / row.sum()\n",
    "\n",
    "def precision_macro_average(confusion_matrix):\n",
    "    rows, columns = confusion_matrix.shape\n",
    "    sum_of_precisions = 0\n",
    "    for label in range(rows):\n",
    "        sum_of_precisions += precision(label, confusion_matrix)\n",
    "    return sum_of_precisions / rows\n",
    "\n",
    "def recall_macro_average(confusion_matrix):\n",
    "    rows, columns = confusion_matrix.shape\n",
    "    sum_of_recalls = 0\n",
    "    for label in range(columns):\n",
    "        sum_of_recalls += recall(label, confusion_matrix)\n"
   ]
  },
  {
   "cell_type": "code",
   "execution_count": 27,
   "metadata": {},
   "outputs": [
    {
     "data": {
      "image/png": "[encoded data removed]",
      "text/plain": [
       "<Figure size 432x432 with 1 Axes>"
      ]
     },
     "metadata": {
      "needs_background": "light"
     },
     "output_type": "display_data"
    }
   ],
   "source": [
    "\n",
    "dic={}\n",
    "precision_=[]\n",
    "recall_=[]\n",
    "precision_macro_average_=[]\n",
    "for label in range(6):\n",
    "    precision_.append(precision(label, cm))\n",
    "    recall_.append(recall(label, cm))\n",
    "    \n",
    "dic[\"Precision\"]= precision_\n",
    "dic[\"Recall\"]= recall_\n",
    "\n",
    "plt.figure(figsize=(6,6))\n",
    "ax=sns.heatmap(pd.DataFrame(dic, index=[\"building\",\"barren_land\",\"tree\",\"grassland\",\"road\",\"water\"]),annot=True,cbar=False)\n",
    "plt.yticks(rotation=0)\n",
    "ax.xaxis.tick_top() # x axis on top\n",
    "\n",
    "plt.show()"
   ]
  }
 ],
 "metadata": {
  "kernelspec": {
   "display_name": "Python 3",
   "language": "python",
   "name": "python3"
  },
  "language_info": {
   "codemirror_mode": {
    "name": "ipython",
    "version": 3
   },
   "file_extension": ".py",
   "mimetype": "text/x-python",
   "name": "python",
   "nbconvert_exporter": "python",
   "pygments_lexer": "ipython3",
   "version": "3.6.6"
  }
 },
 "nbformat": 4,
 "nbformat_minor": 1
}
